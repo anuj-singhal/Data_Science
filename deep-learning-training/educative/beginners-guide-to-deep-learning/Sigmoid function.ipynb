{
 "cells": [
  {
   "cell_type": "code",
   "execution_count": 1,
   "metadata": {},
   "outputs": [],
   "source": [
    "import numpy as np\n",
    "import math"
   ]
  },
  {
   "cell_type": "code",
   "execution_count": 2,
   "metadata": {},
   "outputs": [],
   "source": [
    "def sigmoid(x):\n",
    "    calc = 1/(1+math.exp(-x))\n",
    "    return calc"
   ]
  },
  {
   "cell_type": "code",
   "execution_count": 46,
   "metadata": {},
   "outputs": [],
   "source": [
    "def sigmoid(x):\n",
    "    calc = 1/(1+np.exp(-x))\n",
    "    return calc\n"
   ]
  },
  {
   "cell_type": "code",
   "execution_count": 45,
   "metadata": {},
   "outputs": [],
   "source": [
    "def forward_propagation(input_data, weights, bias):\n",
    "    \"\"\"\n",
    "    Computes the forward propagation operation of a perceptron and \n",
    "    returns the output after applying the sigmoid activation function\n",
    "    \"\"\"\n",
    "    \n",
    "    return sigmoid(np.dot(input_data, weights) + bias) "
   ]
  },
  {
   "cell_type": "code",
   "execution_count": 44,
   "metadata": {},
   "outputs": [],
   "source": [
    "def calculate_error(y, y_pred):\n",
    "    \n",
    "    return - (y * np.log(y_pred) + (1 - y) * np.log(1 - y_pred))"
   ]
  },
  {
   "cell_type": "code",
   "execution_count": null,
   "metadata": {},
   "outputs": [],
   "source": []
  },
  {
   "cell_type": "code",
   "execution_count": 47,
   "metadata": {},
   "outputs": [
    {
     "name": "stdout",
     "output_type": "stream",
     "text": [
      "Pridicted: 0.289050497374996\n",
      "Error: [0.34115387]\n"
     ]
    }
   ],
   "source": [
    "X = np.array([2, 3])\n",
    "y = np.array([0])\n",
    "bias = 0.1\n",
    "weights = np.array([1.0, -1.0])\n",
    "\n",
    "output = forward_propagation(X, weights, bias)\n",
    "#Y_predicted = (output > 0.5) * 1 ## apply sigmoid activation\n",
    "print(\"Pridicted:\", output)\n",
    "print(\"Error:\", calculate_error(y, output))"
   ]
  },
  {
   "cell_type": "code",
   "execution_count": 29,
   "metadata": {},
   "outputs": [],
   "source": [
    "X = np.array([[2, 3], [1, 4], [-1, -3], [-4, -5]])"
   ]
  },
  {
   "cell_type": "code",
   "execution_count": 41,
   "metadata": {},
   "outputs": [
    {
     "data": {
      "text/plain": [
       "array([ 2,  1, -1, -4])"
      ]
     },
     "execution_count": 41,
     "metadata": {},
     "output_type": "execute_result"
    }
   ],
   "source": [
    "X[:,0]"
   ]
  },
  {
   "cell_type": "code",
   "execution_count": 55,
   "metadata": {},
   "outputs": [],
   "source": [
    "X = np.array([[2, 3], [1, 4], [-1, -3], [-4, -5]])\n",
    "weights_0 = np.array([0.0, 0.0]) \n",
    "weights_1 = np.array([1.0, -1.0])\n",
    "bias = 0.1\n",
    "Y = np.array([1.0, 1.0, 0.0, 0.0])"
   ]
  },
  {
   "cell_type": "code",
   "execution_count": 69,
   "metadata": {},
   "outputs": [],
   "source": [
    "def sigmoid(x): # sigmoid activation function\n",
    "    \"\"\"The sigmoid activation function\"\"\"\n",
    "    return 1 / (1 + np.exp(-x))\n",
    "\n",
    "def forward_propagation(input_data, weights, bias):\n",
    "    \"\"\"\n",
    "    Computes the forward propagation operation of a perceptron and \n",
    "    returns the output after applying the sigmoid activation function\n",
    "    \"\"\"\n",
    "    # take the dot product of input and weight and add the bias\n",
    "    return sigmoid(np.dot(input_data, weights) + bias) \n",
    " \n",
    "def calculate_error(y, y_predicted):\n",
    "    \"\"\"Computes the binary cross entropy error\"\"\"\n",
    "    return - y * np.log(y_predicted) - (1 - y) * np.log(1 - y_predicted)\n",
    "\n",
    "def ce_two_different_weights(X, Y, weights_0, weights_1, bias): \n",
    "    sum_error1 = 0.0\n",
    "    sum_error2 = 0.0\n",
    "    for i in range(len(X)):\n",
    "        y1 = forward_propagation(X[i], weights_0, bias)\n",
    "        sum_error1 = sum_error1 + calculate_error(Y[i], y1)\n",
    "        y2 = forward_propagation(X[i], weights_1, bias)\n",
    "        sum_error2 = sum_error2 + calculate_error(Y[i], y2)\n",
    "    print(sum_error1, sum_error2)\n",
    "    \n",
    "    "
   ]
  },
  {
   "cell_type": "code",
   "execution_count": 70,
   "metadata": {},
   "outputs": [
    {
     "name": "stdout",
     "output_type": "stream",
     "text": [
      "2.7775866402942837 7.797571499245237\n"
     ]
    }
   ],
   "source": [
    "ce_two_different_weights(X, Y, weights_0, weights_1, bias)"
   ]
  },
  {
   "cell_type": "code",
   "execution_count": null,
   "metadata": {},
   "outputs": [],
   "source": []
  }
 ],
 "metadata": {
  "kernelspec": {
   "display_name": "Python 3",
   "language": "python",
   "name": "python3"
  },
  "language_info": {
   "codemirror_mode": {
    "name": "ipython",
    "version": 3
   },
   "file_extension": ".py",
   "mimetype": "text/x-python",
   "name": "python",
   "nbconvert_exporter": "python",
   "pygments_lexer": "ipython3",
   "version": "3.8.5"
  }
 },
 "nbformat": 4,
 "nbformat_minor": 4
}
